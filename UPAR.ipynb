{
 "cells": [
  {
   "cell_type": "markdown",
   "id": "d6859a44",
   "metadata": {},
   "source": [
    "### Directory structure"
   ]
  },
  {
   "cell_type": "code",
   "execution_count": 9,
   "id": "fee97854-52e6-48f3-8f07-e39bf6f5ec2f",
   "metadata": {},
   "outputs": [
    {
     "name": "stdout",
     "output_type": "stream",
     "text": [
      ".\n",
      "├── UPAR.ipynb\n",
      "├── data\n",
      "│   ├── Market1501\n",
      "│   │   ├── Market-1501-v15.09.15\n",
      "│   │   ├── bounding_box_test\n",
      "│   │   ├── bounding_box_train\n",
      "│   │   ├── gt_bbox\n",
      "│   │   ├── gt_query\n",
      "│   │   └── query\n",
      "│   ├── PA100k\n",
      "│   │   ├── data\n",
      "│   │   └── release_data\n",
      "│   │       └── release_data\n",
      "│   ├── PETA\n",
      "│   │   └── PETA dataset\n",
      "│   │       ├── 3DPeS\n",
      "│   │       │   └── archive\n",
      "│   │       ├── CAVIAR4REID\n",
      "│   │       │   └── archive\n",
      "│   │       ├── CUHK\n",
      "│   │       │   └── archive\n",
      "│   │       ├── GRID\n",
      "│   │       │   └── archive\n",
      "│   │       ├── MIT\n",
      "│   │       │   └── archive\n",
      "│   │       ├── PRID\n",
      "│   │       │   └── archive\n",
      "│   │       ├── SARC3D\n",
      "│   │       │   └── archive\n",
      "│   │       ├── TownCentre\n",
      "│   │       │   └── archive\n",
      "│   │       ├── VIPeR\n",
      "│   │       │   └── archive\n",
      "│   │       └── i-LID\n",
      "│   │           └── archive\n",
      "│   ├── PETA_ALL_UPAR_labels.csv\n",
      "│   ├── RAP2\n",
      "│   │   └── RAP_dataset\n",
      "│   │       └── .gitsave\n",
      "│   ├── dataset_all.pkl\n",
      "│   └── dataset_all_merged.pkl\n",
      "└── peta_fix.ipynb\n"
     ]
    }
   ],
   "source": [
    "import os\n",
    "\n",
    "# Skip file extensions and folder names\n",
    "SKIP_EXTENSIONS = {\".jpg\", \".png\", \".mat\", \".bmp\", \".jpeg\" ,\".txt\", \".db\", \".gitsave\", \".pth\"}\n",
    "SKIP_DIR_NAMES = {\"__pycache__\", \".ipynb_checkpoints\"}\n",
    "\n",
    "def print_tree(root_path, indent=\"\", max_items=10):\n",
    "    try:\n",
    "        items = os.listdir(root_path)\n",
    "    except PermissionError:\n",
    "        print(indent + \"Permission denied\")\n",
    "        return\n",
    "\n",
    "    # Filter items\n",
    "    filtered = []\n",
    "    for item in sorted(items):\n",
    "        full_path = os.path.join(root_path, item)\n",
    "        if os.path.isdir(full_path):\n",
    "            if item in SKIP_DIR_NAMES:\n",
    "                continue\n",
    "        else:\n",
    "            _, ext = os.path.splitext(item)\n",
    "            if ext.lower() in SKIP_EXTENSIONS:\n",
    "                continue\n",
    "        filtered.append(item)\n",
    "\n",
    "    total_items = len(filtered)\n",
    "    display_items = filtered[:max_items]\n",
    "\n",
    "    for i, item in enumerate(display_items):\n",
    "        full_path = os.path.join(root_path, item)\n",
    "        is_last = (i == len(display_items) - 1)\n",
    "        prefix = \"└── \" if is_last else \"├── \"\n",
    "        print(indent + prefix + item)\n",
    "\n",
    "        if os.path.isdir(full_path):\n",
    "            new_indent = indent + (\"    \" if is_last else \"│   \")\n",
    "            print_tree(full_path, new_indent, max_items)\n",
    "\n",
    "    if total_items > max_items:\n",
    "        print(indent + \"│   ...\")\n",
    "\n",
    "if __name__ == \"__main__\":\n",
    "    root_directory = \".\" \n",
    "    print(root_directory)\n",
    "    print_tree(root_directory)\n"
   ]
  },
  {
   "cell_type": "code",
   "execution_count": 1,
   "id": "73ff2c87-7e21-4ad5-a485-0b07a92e76af",
   "metadata": {},
   "outputs": [],
   "source": [
    "import pandas as pd\n",
    "import pickle\n",
    "import numpy as np\n",
    "from PIL import Image\n",
    "from IPython.display import display\n",
    "import math\n",
    "import numpy as np\n",
    "import os\n",
    "import seaborn as sns\n",
    "import matplotlib.pyplot as plt\n",
    "from sklearn.preprocessing import LabelEncoder\n",
    "from sklearn.model_selection import train_test_split"
   ]
  },
  {
   "cell_type": "code",
   "execution_count": 2,
   "id": "eb8ead77-b997-4779-8c45-96135586fe72",
   "metadata": {},
   "outputs": [
    {
     "name": "stdout",
     "output_type": "stream",
     "text": [
      "<class 'dict'>\n",
      "dict_keys(['description', 'reorder', 'root', 'image_name', 'label', 'attr_name', 'dataset_ids', 'partition', 'weight_train', 'weight_val', 'weight_trainval', 'weight_test'])\n"
     ]
    }
   ],
   "source": [
    "with open(\"data/dataset_all_merged.pkl\", \"rb\") as f:\n",
    "    upar_data = pickle.load(f)\n",
    "\n",
    "# Check the top-level keys\n",
    "print(type(upar_data))\n",
    "print(upar_data.keys())"
   ]
  },
  {
   "cell_type": "code",
   "execution_count": 3,
   "id": "f8fe6c61-3c28-491d-9e9e-952b47cadca8",
   "metadata": {},
   "outputs": [
    {
     "data": {
      "text/html": [
       "<div>\n",
       "<style scoped>\n",
       "    .dataframe tbody tr th:only-of-type {\n",
       "        vertical-align: middle;\n",
       "    }\n",
       "\n",
       "    .dataframe tbody tr th {\n",
       "        vertical-align: top;\n",
       "    }\n",
       "\n",
       "    .dataframe thead th {\n",
       "        text-align: right;\n",
       "    }\n",
       "</style>\n",
       "<table border=\"1\" class=\"dataframe\">\n",
       "  <thead>\n",
       "    <tr style=\"text-align: right;\">\n",
       "      <th></th>\n",
       "      <th>image_name</th>\n",
       "      <th>partition</th>\n",
       "      <th>Age-Young</th>\n",
       "      <th>Age-Adult</th>\n",
       "      <th>Age-Old</th>\n",
       "      <th>Gender-Female</th>\n",
       "      <th>Hair-Length-Short</th>\n",
       "      <th>Hair-Length-Long</th>\n",
       "      <th>Hair-Length-Bald</th>\n",
       "      <th>UpperBody-Length-Short</th>\n",
       "      <th>...</th>\n",
       "      <th>LowerBody-Color-White</th>\n",
       "      <th>LowerBody-Color-Yellow</th>\n",
       "      <th>LowerBody-Color-Other</th>\n",
       "      <th>LowerBody-Type-Trousers&amp;Shorts</th>\n",
       "      <th>LowerBody-Type-Skirt&amp;Dress</th>\n",
       "      <th>Accessory-Backpack</th>\n",
       "      <th>Accessory-Bag</th>\n",
       "      <th>Accessory-Glasses-Normal</th>\n",
       "      <th>Accessory-Glasses-Sun</th>\n",
       "      <th>Accessory-Hat</th>\n",
       "    </tr>\n",
       "  </thead>\n",
       "  <tbody>\n",
       "    <tr>\n",
       "      <th>0</th>\n",
       "      <td>Market1501/bounding_box_train/0002_c1s1_000451...</td>\n",
       "      <td>NaN</td>\n",
       "      <td>0</td>\n",
       "      <td>1</td>\n",
       "      <td>0</td>\n",
       "      <td>0</td>\n",
       "      <td>1</td>\n",
       "      <td>0</td>\n",
       "      <td>0</td>\n",
       "      <td>1</td>\n",
       "      <td>...</td>\n",
       "      <td>0</td>\n",
       "      <td>0</td>\n",
       "      <td>0</td>\n",
       "      <td>1</td>\n",
       "      <td>0</td>\n",
       "      <td>0</td>\n",
       "      <td>0</td>\n",
       "      <td>1</td>\n",
       "      <td>0</td>\n",
       "      <td>0</td>\n",
       "    </tr>\n",
       "    <tr>\n",
       "      <th>1</th>\n",
       "      <td>Market1501/bounding_box_train/0002_c1s1_000551...</td>\n",
       "      <td>NaN</td>\n",
       "      <td>0</td>\n",
       "      <td>1</td>\n",
       "      <td>0</td>\n",
       "      <td>0</td>\n",
       "      <td>1</td>\n",
       "      <td>0</td>\n",
       "      <td>0</td>\n",
       "      <td>1</td>\n",
       "      <td>...</td>\n",
       "      <td>0</td>\n",
       "      <td>0</td>\n",
       "      <td>0</td>\n",
       "      <td>1</td>\n",
       "      <td>0</td>\n",
       "      <td>0</td>\n",
       "      <td>0</td>\n",
       "      <td>0</td>\n",
       "      <td>0</td>\n",
       "      <td>0</td>\n",
       "    </tr>\n",
       "    <tr>\n",
       "      <th>2</th>\n",
       "      <td>Market1501/bounding_box_train/0002_c1s1_000776...</td>\n",
       "      <td>NaN</td>\n",
       "      <td>0</td>\n",
       "      <td>1</td>\n",
       "      <td>0</td>\n",
       "      <td>0</td>\n",
       "      <td>1</td>\n",
       "      <td>0</td>\n",
       "      <td>0</td>\n",
       "      <td>1</td>\n",
       "      <td>...</td>\n",
       "      <td>0</td>\n",
       "      <td>0</td>\n",
       "      <td>0</td>\n",
       "      <td>1</td>\n",
       "      <td>0</td>\n",
       "      <td>0</td>\n",
       "      <td>0</td>\n",
       "      <td>1</td>\n",
       "      <td>0</td>\n",
       "      <td>0</td>\n",
       "    </tr>\n",
       "    <tr>\n",
       "      <th>3</th>\n",
       "      <td>Market1501/bounding_box_train/0002_c1s1_000801...</td>\n",
       "      <td>NaN</td>\n",
       "      <td>0</td>\n",
       "      <td>1</td>\n",
       "      <td>0</td>\n",
       "      <td>0</td>\n",
       "      <td>1</td>\n",
       "      <td>0</td>\n",
       "      <td>0</td>\n",
       "      <td>1</td>\n",
       "      <td>...</td>\n",
       "      <td>0</td>\n",
       "      <td>0</td>\n",
       "      <td>0</td>\n",
       "      <td>1</td>\n",
       "      <td>0</td>\n",
       "      <td>0</td>\n",
       "      <td>0</td>\n",
       "      <td>1</td>\n",
       "      <td>0</td>\n",
       "      <td>0</td>\n",
       "    </tr>\n",
       "    <tr>\n",
       "      <th>4</th>\n",
       "      <td>Market1501/bounding_box_train/0002_c1s1_069056...</td>\n",
       "      <td>NaN</td>\n",
       "      <td>0</td>\n",
       "      <td>1</td>\n",
       "      <td>0</td>\n",
       "      <td>0</td>\n",
       "      <td>1</td>\n",
       "      <td>0</td>\n",
       "      <td>0</td>\n",
       "      <td>1</td>\n",
       "      <td>...</td>\n",
       "      <td>0</td>\n",
       "      <td>0</td>\n",
       "      <td>0</td>\n",
       "      <td>1</td>\n",
       "      <td>0</td>\n",
       "      <td>0</td>\n",
       "      <td>0</td>\n",
       "      <td>1</td>\n",
       "      <td>0</td>\n",
       "      <td>0</td>\n",
       "    </tr>\n",
       "  </tbody>\n",
       "</table>\n",
       "<p>5 rows × 42 columns</p>\n",
       "</div>"
      ],
      "text/plain": [
       "                                          image_name partition  Age-Young  \\\n",
       "0  Market1501/bounding_box_train/0002_c1s1_000451...       NaN          0   \n",
       "1  Market1501/bounding_box_train/0002_c1s1_000551...       NaN          0   \n",
       "2  Market1501/bounding_box_train/0002_c1s1_000776...       NaN          0   \n",
       "3  Market1501/bounding_box_train/0002_c1s1_000801...       NaN          0   \n",
       "4  Market1501/bounding_box_train/0002_c1s1_069056...       NaN          0   \n",
       "\n",
       "   Age-Adult  Age-Old  Gender-Female  Hair-Length-Short  Hair-Length-Long  \\\n",
       "0          1        0              0                  1                 0   \n",
       "1          1        0              0                  1                 0   \n",
       "2          1        0              0                  1                 0   \n",
       "3          1        0              0                  1                 0   \n",
       "4          1        0              0                  1                 0   \n",
       "\n",
       "   Hair-Length-Bald  UpperBody-Length-Short  ...  LowerBody-Color-White  \\\n",
       "0                 0                       1  ...                      0   \n",
       "1                 0                       1  ...                      0   \n",
       "2                 0                       1  ...                      0   \n",
       "3                 0                       1  ...                      0   \n",
       "4                 0                       1  ...                      0   \n",
       "\n",
       "   LowerBody-Color-Yellow  LowerBody-Color-Other  \\\n",
       "0                       0                      0   \n",
       "1                       0                      0   \n",
       "2                       0                      0   \n",
       "3                       0                      0   \n",
       "4                       0                      0   \n",
       "\n",
       "   LowerBody-Type-Trousers&Shorts  LowerBody-Type-Skirt&Dress  \\\n",
       "0                               1                           0   \n",
       "1                               1                           0   \n",
       "2                               1                           0   \n",
       "3                               1                           0   \n",
       "4                               1                           0   \n",
       "\n",
       "   Accessory-Backpack  Accessory-Bag  Accessory-Glasses-Normal  \\\n",
       "0                   0              0                         1   \n",
       "1                   0              0                         0   \n",
       "2                   0              0                         1   \n",
       "3                   0              0                         1   \n",
       "4                   0              0                         1   \n",
       "\n",
       "   Accessory-Glasses-Sun  Accessory-Hat  \n",
       "0                      0              0  \n",
       "1                      0              0  \n",
       "2                      0              0  \n",
       "3                      0              0  \n",
       "4                      0              0  \n",
       "\n",
       "[5 rows x 42 columns]"
      ]
     },
     "execution_count": 3,
     "metadata": {},
     "output_type": "execute_result"
    }
   ],
   "source": [
    "import pandas as pd\n",
    "import numpy as np\n",
    "\n",
    "# Extract core elements using dict-style access\n",
    "image_names = upar_data['image_name']\n",
    "labels = np.array(upar_data['label'])\n",
    "attr_names = upar_data['attr_name']\n",
    "partition = upar_data.get('partition', None)\n",
    "\n",
    "# Build DataFrame\n",
    "df_upar = pd.DataFrame(labels, columns=attr_names)\n",
    "df_upar[\"image_name\"] = image_names\n",
    "\n",
    "# Only include partition if it exists\n",
    "if partition is not None:\n",
    "    df_upar[\"partition\"] = partition\n",
    "    cols = [\"image_name\", \"partition\"] + attr_names\n",
    "else:\n",
    "    cols = [\"image_name\"] + attr_names\n",
    "\n",
    "df_upar = df_upar[cols]\n",
    "\n",
    "# Show sample\n",
    "df_upar.head()\n"
   ]
  },
  {
   "cell_type": "code",
   "execution_count": 5,
   "id": "eaa790fa-c62a-47ee-adcb-39ebaea4e661",
   "metadata": {},
   "outputs": [
    {
     "data": {
      "image/png": "[encoded data removed]",
      "text/plain": [
       "<Figure size 1400x800 with 1 Axes>"
      ]
     },
     "metadata": {},
     "output_type": "display_data"
    }
   ],
   "source": [
    "# Drop image name and partition to isolate labels\n",
    "label_columns = df_upar.columns.difference(['image_name', 'partition'])\n",
    "\n",
    "# Sum label occurrences\n",
    "label_counts = df_upar[label_columns].sum().sort_values(ascending=False)\n",
    "\n",
    "# Plot the distribution\n",
    "plt.figure(figsize=(14, 8))\n",
    "sns.barplot(x=label_counts.values, y=label_counts.index)\n",
    "plt.title(\"Attribute Label Distribution\")\n",
    "plt.xlabel(\"Total Occurrences\")\n",
    "plt.ylabel(\"Attribute\")\n",
    "plt.tight_layout()\n",
    "plt.show()\n"
   ]
  },
  {
   "cell_type": "code",
   "execution_count": 6,
   "id": "cc84d9f2-1d09-44a7-bf2e-1a1a08ec0341",
   "metadata": {},
   "outputs": [
    {
     "name": "stdout",
     "output_type": "stream",
     "text": [
      "Top 5 Most Common Attributes:\n",
      "Age-Adult                         204367\n",
      "LowerBody-Type-Trousers&Shorts    204143\n",
      "Hair-Length-Short                 153535\n",
      "LowerBody-Color-Black             126884\n",
      "UpperBody-Length-Short             93602\n",
      "dtype: int64\n",
      "Age-Adult                         204367\n",
      "LowerBody-Type-Trousers&Shorts    204143\n",
      "Hair-Length-Short                 153535\n",
      "LowerBody-Color-Black             126884\n",
      "UpperBody-Length-Short             93602\n",
      "Gender-Female                      89325\n",
      "UpperBody-Color-Black              78439\n",
      "Accessory-Bag                      57739\n",
      "UpperBody-Color-White              57610\n",
      "Hair-Length-Long                   55557\n",
      "LowerBody-Color-Blue               45936\n",
      "UpperBody-Color-Grey               39530\n",
      "LowerBody-Length-Short             35984\n",
      "Accessory-Backpack                 27153\n",
      "LowerBody-Color-Grey               26588\n",
      "Accessory-Glasses-Normal           25464\n",
      "UpperBody-Color-Blue               21105\n",
      "UpperBody-Color-Other              20771\n",
      "LowerBody-Type-Skirt&Dress         20635\n",
      "UpperBody-Color-Red                15984\n",
      "Age-Young                          12055\n",
      "LowerBody-Color-White               8836\n",
      "Accessory-Hat                       8688\n",
      "UpperBody-Color-Green               8182\n",
      "UpperBody-Color-Yellow              7290\n",
      "LowerBody-Color-Brown               6347\n",
      "UpperBody-Color-Brown               5978\n",
      "UpperBody-Color-Pink                5093\n",
      "LowerBody-Color-Other               4902\n",
      "UpperBody-Color-Purple              4553\n",
      "Age-Old                             3757\n",
      "Hair-Length-Bald                    2461\n",
      "LowerBody-Color-Green               2455\n",
      "LowerBody-Color-Red                 2377\n",
      "LowerBody-Color-Pink                2372\n",
      "LowerBody-Color-Yellow              2022\n",
      "UpperBody-Color-Orange              1798\n",
      "Accessory-Glasses-Sun               1758\n",
      "LowerBody-Color-Orange               548\n",
      "LowerBody-Color-Purple               443\n",
      "dtype: int64\n"
     ]
    }
   ],
   "source": [
    "print(\"Top 5 Most Common Attributes:\")\n",
    "print(label_counts.head(5))\n",
    "\n",
    "print(label_counts)\n"
   ]
  },
  {
   "cell_type": "markdown",
   "id": "14b93b9f",
   "metadata": {},
   "source": [
    "### Explore label distributions"
   ]
  },
  {
   "cell_type": "code",
   "execution_count": 7,
   "id": "d53431a1-0dc1-4846-b114-b049eb1f7f06",
   "metadata": {},
   "outputs": [
    {
     "name": "stdout",
     "output_type": "stream",
     "text": [
      "Gender-Female has non-binary values: [0 1 2]\n"
     ]
    }
   ],
   "source": [
    "# Check unique values in each label column\n",
    "for col in label_columns:\n",
    "    unique_vals = df_upar[col].unique()\n",
    "    if not set(unique_vals).issubset({0, 1}):\n",
    "        print(f\"{col} has non-binary values: {unique_vals}\")\n"
   ]
  },
  {
   "cell_type": "markdown",
   "id": "41676d2a",
   "metadata": {},
   "source": [
    "### Explore label distributions"
   ]
  },
  {
   "cell_type": "code",
   "execution_count": 8,
   "id": "40d23000-0b16-4125-84e7-650e75514422",
   "metadata": {},
   "outputs": [
    {
     "name": "stdout",
     "output_type": "stream",
     "text": [
      "Accessory-Backpack: [0, 1]\n",
      "Accessory-Bag: [0, 1]\n",
      "Accessory-Glasses-Normal: [0, 1]\n",
      "Accessory-Glasses-Sun: [0, 1]\n",
      "Accessory-Hat: [0, 1]\n",
      "Age-Adult: [0, 1]\n",
      "Age-Old: [0, 1]\n",
      "Age-Young: [0, 1]\n",
      "Gender-Female: [0, 1, 2]\n",
      "Hair-Length-Bald: [0, 1]\n",
      "Hair-Length-Long: [0, 1]\n",
      "Hair-Length-Short: [0, 1]\n",
      "LowerBody-Color-Black: [0, 1]\n",
      "LowerBody-Color-Blue: [0, 1]\n",
      "LowerBody-Color-Brown: [0, 1]\n",
      "LowerBody-Color-Green: [0, 1]\n",
      "LowerBody-Color-Grey: [0, 1]\n",
      "LowerBody-Color-Orange: [0, 1]\n",
      "LowerBody-Color-Other: [0, 1]\n",
      "LowerBody-Color-Pink: [0, 1]\n",
      "LowerBody-Color-Purple: [0, 1]\n",
      "LowerBody-Color-Red: [0, 1]\n",
      "LowerBody-Color-White: [0, 1]\n",
      "LowerBody-Color-Yellow: [0, 1]\n",
      "LowerBody-Length-Short: [0, 1]\n",
      "LowerBody-Type-Skirt&Dress: [0, 1]\n",
      "LowerBody-Type-Trousers&Shorts: [0, 1]\n",
      "UpperBody-Color-Black: [0, 1]\n",
      "UpperBody-Color-Blue: [0, 1]\n",
      "UpperBody-Color-Brown: [0, 1]\n",
      "UpperBody-Color-Green: [0, 1]\n",
      "UpperBody-Color-Grey: [0, 1]\n",
      "UpperBody-Color-Orange: [0, 1]\n",
      "UpperBody-Color-Other: [0, 1]\n",
      "UpperBody-Color-Pink: [0, 1]\n",
      "UpperBody-Color-Purple: [0, 1]\n",
      "UpperBody-Color-Red: [0, 1]\n",
      "UpperBody-Color-White: [0, 1]\n",
      "UpperBody-Color-Yellow: [0, 1]\n",
      "UpperBody-Length-Short: [0, 1]\n"
     ]
    }
   ],
   "source": [
    "# Print unique values for each label column\n",
    "for col in label_columns:\n",
    "    unique_vals = sorted(df_upar[col].unique())\n",
    "    print(f\"{col}: {unique_vals}\")\n"
   ]
  },
  {
   "cell_type": "code",
   "execution_count": 9,
   "id": "584c56e9-79ab-4952-ab4f-e93269269fee",
   "metadata": {},
   "outputs": [],
   "source": [
    "df_upar = df_upar[df_upar[\"Gender-Female\"] != 2]"
   ]
  },
  {
   "cell_type": "code",
   "execution_count": 10,
   "id": "f7b9743b-1507-42af-a70a-b6b2b0bc9e7f",
   "metadata": {},
   "outputs": [
    {
     "name": "stdout",
     "output_type": "stream",
     "text": [
      "Number of rows with Gender-Female == 2: 0\n",
      "\n",
      "Sample image names with Gender-Female == 2:\n",
      "[]\n"
     ]
    }
   ],
   "source": [
    "# Find rows with Gender-Female == 2\n",
    "invalid_gender = df_upar[df_upar[\"Gender-Female\"] == 2]\n",
    "\n",
    "# Count how many\n",
    "print(f\"Number of rows with Gender-Female == 2: {len(invalid_gender)}\")\n",
    "\n",
    "# Show some example image names\n",
    "print(\"\\nSample image names with Gender-Female == 2:\")\n",
    "print(invalid_gender[\"image_name\"].head(10).to_list())\n"
   ]
  },
  {
   "cell_type": "markdown",
   "id": "beb82255",
   "metadata": {},
   "source": [
    "### Explore label distributions"
   ]
  },
  {
   "cell_type": "code",
   "execution_count": 11,
   "id": "126d3dc7-5734-4313-830e-ff52202ae3f5",
   "metadata": {},
   "outputs": [
    {
     "name": "stdout",
     "output_type": "stream",
     "text": [
      "Accessory-Backpack             Present: 27150   | Absent: 194511\n",
      "Accessory-Bag                  Present: 57724   | Absent: 163937\n",
      "Accessory-Glasses-Normal       Present: 25459   | Absent: 196202\n",
      "Accessory-Glasses-Sun          Present: 1758    | Absent: 219903\n",
      "Accessory-Hat                  Present: 8685    | Absent: 212976\n",
      "Age-Adult                      Present: 204230  | Absent: 17431\n",
      "Age-Old                        Present: 3757    | Absent: 217904\n",
      "Age-Young                      Present: 12054   | Absent: 209607\n",
      "Gender-Female                  Present: 89029   | Absent: 132632\n",
      "Hair-Length-Bald               Present: 2461    | Absent: 219200\n",
      "Hair-Length-Long               Present: 55550   | Absent: 166111\n",
      "Hair-Length-Short              Present: 153394  | Absent: 68267\n",
      "LowerBody-Color-Black          Present: 126803  | Absent: 94858\n",
      "LowerBody-Color-Blue           Present: 45881   | Absent: 175780\n",
      "LowerBody-Color-Brown          Present: 6346    | Absent: 215315\n",
      "LowerBody-Color-Green          Present: 2454    | Absent: 219207\n",
      "LowerBody-Color-Grey           Present: 26574   | Absent: 195087\n",
      "LowerBody-Color-Orange         Present: 547     | Absent: 221114\n",
      "LowerBody-Color-Other          Present: 4901    | Absent: 216760\n",
      "LowerBody-Color-Pink           Present: 2371    | Absent: 219290\n",
      "LowerBody-Color-Purple         Present: 443     | Absent: 221218\n",
      "LowerBody-Color-Red            Present: 2376    | Absent: 219285\n",
      "LowerBody-Color-White          Present: 8836    | Absent: 212825\n",
      "LowerBody-Color-Yellow         Present: 2019    | Absent: 219642\n",
      "LowerBody-Length-Short         Present: 35984   | Absent: 185677\n",
      "LowerBody-Type-Skirt&Dress     Present: 20634   | Absent: 201027\n",
      "LowerBody-Type-Trousers&Shorts Present: 203996  | Absent: 17665\n",
      "UpperBody-Color-Black          Present: 78372   | Absent: 143289\n",
      "UpperBody-Color-Blue           Present: 21091   | Absent: 200570\n",
      "UpperBody-Color-Brown          Present: 5975    | Absent: 215686\n",
      "UpperBody-Color-Green          Present: 8177    | Absent: 213484\n",
      "UpperBody-Color-Grey           Present: 39500   | Absent: 182161\n",
      "UpperBody-Color-Orange         Present: 1798    | Absent: 219863\n",
      "UpperBody-Color-Other          Present: 20749   | Absent: 200912\n",
      "UpperBody-Color-Pink           Present: 5091    | Absent: 216570\n",
      "UpperBody-Color-Purple         Present: 4550    | Absent: 217111\n",
      "UpperBody-Color-Red            Present: 15967   | Absent: 205694\n",
      "UpperBody-Color-White          Present: 57589   | Absent: 164072\n",
      "UpperBody-Color-Yellow         Present: 7287    | Absent: 214374\n",
      "UpperBody-Length-Short         Present: 93595   | Absent: 128066\n"
     ]
    }
   ],
   "source": [
    "# Loop through each label column\n",
    "for col in label_columns:\n",
    "    counts = df_upar[col].value_counts().sort_index()\n",
    "    present = counts.get(1, 0)\n",
    "    absent = counts.get(0, 0)\n",
    "    print(f\"{col:30} Present: {present:<7} | Absent: {absent}\")\n"
   ]
  },
  {
   "cell_type": "markdown",
   "id": "e846cdb9",
   "metadata": {},
   "source": [
    "### Explore label distributions"
   ]
  },
  {
   "cell_type": "code",
   "execution_count": 12,
   "id": "f294069f-d1ba-4e66-a169-1d5bc9ecfd12",
   "metadata": {},
   "outputs": [],
   "source": [
    "present_counts = []\n",
    "absent_counts = []\n",
    "\n",
    "for col in label_columns:\n",
    "    counts = df_upar[col].value_counts().sort_index()\n",
    "    present = counts.get(1, 0)\n",
    "    absent = counts.get(0, 0)\n",
    "    present_counts.append(present)\n",
    "    absent_counts.append(absent)\n",
    "\n",
    "binary_df = pd.DataFrame({\n",
    "    \"Attribute\": label_columns,\n",
    "    \"Present (1)\": present_counts,\n",
    "    \"Absent (0)\": absent_counts\n",
    "})\n",
    "\n",
    "binary_df.set_index(\"Attribute\", inplace=True)"
   ]
  },
  {
   "cell_type": "code",
   "execution_count": 13,
   "id": "9bdc00e0-0ebe-4668-a6d8-706174c0d55e",
   "metadata": {},
   "outputs": [
    {
     "data": {
      "image/png": "[encoded data removed]",
      "text/plain": [
       "<Figure size 1200x1600 with 1 Axes>"
      ]
     },
     "metadata": {},
     "output_type": "display_data"
    }
   ],
   "source": [
    "# Calculate and add Present %\n",
    "binary_df[\"Present %\"] = (binary_df[\"Present (1)\"] / (binary_df[\"Present (1)\"] + binary_df[\"Absent (0)\"])) * 100\n",
    "\n",
    "# Plot\n",
    "plt.figure(figsize=(12, 16))\n",
    "sns.barplot(x=binary_df[\"Present %\"].values, y=binary_df.index)\n",
    "plt.title(\"Percentage of Positive Labels (Present = 1) per Attribute\")\n",
    "plt.xlabel(\"Percentage (%)\")\n",
    "plt.ylabel(\"Attribute\")\n",
    "plt.grid(True, axis='x')\n",
    "plt.tight_layout()\n",
    "plt.show()\n"
   ]
  },
  {
   "cell_type": "code",
   "execution_count": 14,
   "id": "4788140a-a36d-484b-bd69-a197a5ad4c4e",
   "metadata": {},
   "outputs": [
    {
     "name": "stdout",
     "output_type": "stream",
     "text": [
      "\n",
      "--- Analysis of Label Imbalance ---\n",
      "Any attribute where less than 2% of the data has label = 1\n",
      "is considered very rare and may cause poor training performance.\n",
      "These attributes could be dropped.\n",
      "\n",
      "Attributes with less than 2% positive labels:\n",
      "\n",
      "                        Present (1)  Absent (0)  Present %\n",
      "Attribute                                                 \n",
      "Accessory-Glasses-Sun          1758      219903   0.793103\n",
      "Age-Old                        3757      217904   1.694931\n",
      "Hair-Length-Bald               2461      219200   1.110254\n",
      "LowerBody-Color-Green          2454      219207   1.107096\n",
      "LowerBody-Color-Orange          547      221114   0.246773\n",
      "LowerBody-Color-Pink           2371      219290   1.069651\n",
      "LowerBody-Color-Purple          443      221218   0.199855\n",
      "LowerBody-Color-Red            2376      219285   1.071907\n",
      "LowerBody-Color-Yellow         2019      219642   0.910850\n",
      "UpperBody-Color-Orange         1798      219863   0.811149\n"
     ]
    }
   ],
   "source": [
    "# Define the threshold below which an attribute is considered \"rare\"\n",
    "rare_threshold = 2  # means: less than 2% of samples have label = 1\n",
    "\n",
    "# Calculate how frequent each attribute is\n",
    "rare_attrs = binary_df[binary_df[\"Present %\"] < rare_threshold].sort_values(\"Present %\")\n",
    "\n",
    "# Filter rare attributes\n",
    "rare_attrs = binary_df[binary_df[\"Present %\"] < rare_threshold]\n",
    "\n",
    "# Explanation before output\n",
    "print(f\"\\n--- Analysis of Label Imbalance ---\")\n",
    "print(f\"Any attribute where less than {rare_threshold}% of the data has label = 1\")\n",
    "print(\"is considered very rare and may cause poor training performance.\")\n",
    "print(\"These attributes could be dropped.\\n\")\n",
    "\n",
    "# Display results\n",
    "print(f\"Attributes with less than {rare_threshold}% positive labels:\\n\")\n",
    "print(rare_attrs[[\"Present (1)\", \"Absent (0)\", \"Present %\"]])\n"
   ]
  },
  {
   "cell_type": "code",
   "execution_count": 15,
   "id": "3c7b4bc1-6e44-4929-a438-f9fb5b41a742",
   "metadata": {},
   "outputs": [
    {
     "name": "stdout",
     "output_type": "stream",
     "text": [
      "Total attributes kept: 30\n",
      "\n",
      "Attributes retained for training:\n",
      "\n",
      "- Accessory-Backpack\n",
      "- Accessory-Bag\n",
      "- Accessory-Glasses-Normal\n",
      "- Accessory-Hat\n",
      "- Age-Adult\n",
      "- Age-Young\n",
      "- Gender-Female\n",
      "- Hair-Length-Long\n",
      "- Hair-Length-Short\n",
      "- LowerBody-Color-Black\n",
      "- LowerBody-Color-Blue\n",
      "- LowerBody-Color-Brown\n",
      "- LowerBody-Color-Grey\n",
      "- LowerBody-Color-Other\n",
      "- LowerBody-Color-White\n",
      "- LowerBody-Length-Short\n",
      "- LowerBody-Type-Skirt&Dress\n",
      "- LowerBody-Type-Trousers&Shorts\n",
      "- UpperBody-Color-Black\n",
      "- UpperBody-Color-Blue\n",
      "- UpperBody-Color-Brown\n",
      "- UpperBody-Color-Green\n",
      "- UpperBody-Color-Grey\n",
      "- UpperBody-Color-Other\n",
      "- UpperBody-Color-Pink\n",
      "- UpperBody-Color-Purple\n",
      "- UpperBody-Color-Red\n",
      "- UpperBody-Color-White\n",
      "- UpperBody-Color-Yellow\n",
      "- UpperBody-Length-Short\n"
     ]
    }
   ],
   "source": [
    "# Define threshold\n",
    "rare_threshold = 2.0\n",
    "\n",
    "# Separate attributes to keep\n",
    "kept_attrs = binary_df[binary_df[\"Present %\"] >= rare_threshold].index.tolist()\n",
    "\n",
    "# Print\n",
    "print(f\"Total attributes kept: {len(kept_attrs)}\\n\")\n",
    "print(\"Attributes retained for training:\\n\")\n",
    "for attr in kept_attrs:\n",
    "    print(f\"- {attr}\")"
   ]
  },
  {
   "cell_type": "code",
   "execution_count": 16,
   "id": "dcd616fb-840e-445b-a355-28367237a19c",
   "metadata": {},
   "outputs": [
    {
     "name": "stdout",
     "output_type": "stream",
     "text": [
      "Dropped 10 rare attributes:\n",
      "- Accessory-Glasses-Sun\n",
      "- Age-Old\n",
      "- Hair-Length-Bald\n",
      "- LowerBody-Color-Green\n",
      "- LowerBody-Color-Orange\n",
      "- LowerBody-Color-Pink\n",
      "- LowerBody-Color-Purple\n",
      "- LowerBody-Color-Red\n",
      "- LowerBody-Color-Yellow\n",
      "- UpperBody-Color-Orange\n",
      "\n",
      "New shape of df_upar_clean: (221661, 32)\n"
     ]
    }
   ],
   "source": [
    "# Define threshold and get rare attributes again\n",
    "rare_threshold = 2.0\n",
    "rare_attrs = binary_df[binary_df[\"Present %\"] < rare_threshold].index.tolist()\n",
    "\n",
    "# Drop rare attributes from the main DataFrame\n",
    "df_upar_clean = df_upar.drop(columns=rare_attrs)\n",
    "\n",
    "# Show summary\n",
    "print(f\"Dropped {len(rare_attrs)} rare attributes:\")\n",
    "for attr in rare_attrs:\n",
    "    print(f\"- {attr}\")\n",
    "\n",
    "print(f\"\\nNew shape of df_upar_clean: {df_upar_clean.shape}\")\n"
   ]
  },
  {
   "cell_type": "code",
   "execution_count": 17,
   "id": "ec6d1e44-171a-4361-9452-77885594ba52",
   "metadata": {},
   "outputs": [
    {
     "data": {
      "text/plain": [
       "dict_keys(['train', 'val', 'test', 'trainval', 'dataset_train', 'dataset_val', 'dataset_test', 'dataset_trainval'])"
      ]
     },
     "execution_count": 17,
     "metadata": {},
     "output_type": "execute_result"
    }
   ],
   "source": [
    "upar_data['partition'].keys()"
   ]
  },
  {
   "cell_type": "code",
   "execution_count": 18,
   "id": "c663585f-1b85-4e42-83ca-3aa30b5106b4",
   "metadata": {},
   "outputs": [
    {
     "name": "stdout",
     "output_type": "stream",
     "text": [
      "train: 9 samples\n",
      "val: 9 samples\n",
      "trainval: 9 samples\n",
      "test: 9 samples\n"
     ]
    }
   ],
   "source": [
    "for key in ['train', 'val', 'trainval', 'test']:\n",
    "    print(f\"{key}: {len(upar_data['partition'][key])} samples\")\n"
   ]
  },
  {
   "cell_type": "code",
   "execution_count": 19,
   "id": "3f5da828-c1ba-4631-a1fd-b6f4e47c820c",
   "metadata": {},
   "outputs": [
    {
     "data": {
      "text/plain": [
       "Series([], Name: count, dtype: int64)"
      ]
     },
     "execution_count": 19,
     "metadata": {},
     "output_type": "execute_result"
    }
   ],
   "source": [
    "df_upar['partition'].value_counts()\n"
   ]
  },
  {
   "cell_type": "code",
   "execution_count": 20,
   "id": "2c9cf542-515d-40e8-9b7b-d0f22123b874",
   "metadata": {},
   "outputs": [],
   "source": [
    "# Flatten partition indices properly\n",
    "split_indices = {}\n",
    "for split in ['train', 'val', 'trainval', 'test']:\n",
    "    raw = upar_data['partition'][split]\n",
    "    # Flatten nested numpy arrays or lists\n",
    "    if isinstance(raw[0], (np.ndarray, list)):\n",
    "        flat = np.concatenate(raw) if isinstance(raw[0], np.ndarray) else sum(raw, [])\n",
    "    else:\n",
    "        flat = raw\n",
    "    split_indices[split] = flat\n"
   ]
  },
  {
   "cell_type": "code",
   "execution_count": 21,
   "id": "a01ef707-7527-4f15-a6d3-6172127799be",
   "metadata": {},
   "outputs": [],
   "source": [
    "# Recursive flatten function\n",
    "def flatten(x):\n",
    "    result = []\n",
    "    for i in x:\n",
    "        if isinstance(i, (list, np.ndarray)):\n",
    "            result.extend(flatten(i))\n",
    "        else:\n",
    "            result.append(i)\n",
    "    return result\n",
    "\n",
    "# Flattened split index lists\n",
    "split_indices = {\n",
    "    split: flatten(upar_data['partition'][split])\n",
    "    for split in ['train', 'val', 'trainval', 'test']\n",
    "}\n"
   ]
  },
  {
   "cell_type": "code",
   "execution_count": 22,
   "id": "d7fa151e-a0e2-43ce-82af-aa5cad348221",
   "metadata": {},
   "outputs": [],
   "source": [
    "# image_name → split map\n",
    "image_split_map = {}\n",
    "\n",
    "all_image_names = upar_data['image_name']\n",
    "\n",
    "for split, index_list in split_indices.items():\n",
    "    for idx in index_list:\n",
    "        if idx < len(all_image_names):\n",
    "            image_name = all_image_names[idx]\n",
    "            image_split_map[image_name] = split\n",
    "\n",
    "df_upar_clean['partition'] = df_upar_clean['image_name'].map(image_split_map)\n"
   ]
  },
  {
   "cell_type": "code",
   "execution_count": 23,
   "id": "b4b678b3-83cf-4bf3-ac89-b71ad9d1e01b",
   "metadata": {},
   "outputs": [
    {
     "data": {
      "text/plain": [
       "partition\n",
       "trainval    176435\n",
       "test         45226\n",
       "Name: count, dtype: int64"
      ]
     },
     "execution_count": 23,
     "metadata": {},
     "output_type": "execute_result"
    }
   ],
   "source": [
    "df_upar_clean['partition'].value_counts()"
   ]
  },
  {
   "cell_type": "code",
   "execution_count": 24,
   "id": "836b0a73-c4c1-445a-96eb-e2cf2318d860",
   "metadata": {},
   "outputs": [
    {
     "data": {
      "text/plain": [
       "partition\n",
       "train    158791\n",
       "test      45226\n",
       "val       17644\n",
       "Name: count, dtype: int64"
      ]
     },
     "execution_count": 24,
     "metadata": {},
     "output_type": "execute_result"
    }
   ],
   "source": [
    "from sklearn.model_selection import train_test_split\n",
    "\n",
    "# Get only trainval rows\n",
    "trainval_df = df_upar_clean[df_upar_clean['partition'] == 'trainval']\n",
    "\n",
    "# Stratify not needed for multi-label binary case\n",
    "train_df, val_df = train_test_split(trainval_df, test_size=0.1, random_state=42)\n",
    "\n",
    "# Assign new partition values\n",
    "df_upar_clean.loc[train_df.index, 'partition'] = 'train'\n",
    "df_upar_clean.loc[val_df.index, 'partition'] = 'val'\n",
    "\n",
    "df_upar_clean['partition'].value_counts()\n",
    "\n"
   ]
  },
  {
   "cell_type": "markdown",
   "id": "21912379",
   "metadata": {},
   "source": [
    "### Define UPARDataset class"
   ]
  },
  {
   "cell_type": "code",
   "execution_count": 25,
   "id": "d401e75f-3f0a-4a58-8fcb-6340f1c3bd98",
   "metadata": {},
   "outputs": [],
   "source": [
    "from torch.utils.data import Dataset\n",
    "import os\n",
    "from PIL import Image\n",
    "import torch\n",
    "\n",
    "class UPARDataset(Dataset):\n",
    "    def __init__(self, df, root_dir, transform=None, label_cols=None):\n",
    "        self.df = df.reset_index(drop=True)\n",
    "        self.root_dir = root_dir\n",
    "        self.transform = transform\n",
    "        self.label_cols = label_cols if label_cols else df.columns.difference(['image_name', 'partition'])\n",
    "\n",
    "    def __len__(self):\n",
    "        return len(self.df)\n",
    "\n",
    "    def __getitem__(self, idx):\n",
    "        img_path = os.path.join(self.root_dir, self.df.loc[idx, 'image_name'])\n",
    "        image = Image.open(img_path).convert(\"RGB\")\n",
    "\n",
    "        if self.transform:\n",
    "            image = self.transform(image)\n",
    "\n",
    "        labels = torch.tensor(self.df.loc[idx, self.label_cols].values.astype(np.float32))\n",
    "\n",
    "        return image, labels\n"
   ]
  },
  {
   "cell_type": "code",
   "execution_count": 26,
   "id": "3df1c522-d4a8-4773-a026-48a3a4f827c7",
   "metadata": {},
   "outputs": [],
   "source": [
    "import torchvision.transforms as T\n",
    "\n",
    "transform = T.Compose([\n",
    "    T.Resize((224, 224)),\n",
    "    T.ToTensor(),\n",
    "    T.Normalize(mean=[0.5, 0.5, 0.5], std=[0.5, 0.5, 0.5])  # Normalize to [-1, 1]\n",
    "])\n"
   ]
  },
  {
   "cell_type": "markdown",
   "id": "b66a287f",
   "metadata": {},
   "source": [
    "### Instantiate UPAR datasets"
   ]
  },
  {
   "cell_type": "code",
   "execution_count": 27,
   "id": "a4aa3050-5ab6-4d7f-88ed-8322b1197381",
   "metadata": {},
   "outputs": [],
   "source": [
    "# Define label columns (excluding image and partition)\n",
    "label_cols = list(df_upar_clean.columns.difference(['image_name', 'partition']))\n",
    "\n",
    "# Paths\n",
    "root_dir = 'data'  # adjust to where your images are stored\n",
    "\n",
    "# Filter by partition\n",
    "df_train = df_upar_clean[df_upar_clean['partition'] == 'train']\n",
    "df_val   = df_upar_clean[df_upar_clean['partition'] == 'val']\n",
    "df_test  = df_upar_clean[df_upar_clean['partition'] == 'test']\n",
    "\n",
    "# Create datasets\n",
    "train_dataset = UPARDataset(df_train, root_dir=root_dir, transform=transform, label_cols=label_cols)\n",
    "val_dataset   = UPARDataset(df_val, root_dir=root_dir, transform=transform, label_cols=label_cols)\n",
    "test_dataset  = UPARDataset(df_test, root_dir=root_dir, transform=transform, label_cols=label_cols)\n"
   ]
  },
  {
   "cell_type": "code",
   "execution_count": 28,
   "id": "8fa7266e-410a-4051-bc63-2cc0f2c9faaf",
   "metadata": {},
   "outputs": [
    {
     "name": "stdout",
     "output_type": "stream",
     "text": [
      "Train Sample:\n",
      "  Image shape: torch.Size([3, 224, 224])\n",
      "  Label shape: torch.Size([30])\n",
      "  Label sum (number of active attributes): 8.0\n",
      "------------------------------\n",
      "Val Sample:\n",
      "  Image shape: torch.Size([3, 224, 224])\n",
      "  Label shape: torch.Size([30])\n",
      "  Label sum (number of active attributes): 7.0\n",
      "------------------------------\n",
      "Test Sample:\n",
      "  Image shape: torch.Size([3, 224, 224])\n",
      "  Label shape: torch.Size([30])\n",
      "  Label sum (number of active attributes): 8.0\n",
      "------------------------------\n"
     ]
    }
   ],
   "source": [
    "# Check one sample from each set\n",
    "for name, dataset in [('Train', train_dataset), ('Val', val_dataset), ('Test', test_dataset)]:\n",
    "    img, label = dataset[0]\n",
    "    print(f\"{name} Sample:\")\n",
    "    print(f\"  Image shape: {img.shape}\")\n",
    "    print(f\"  Label shape: {label.shape}\")\n",
    "    print(f\"  Label sum (number of active attributes): {label.sum().item()}\")\n",
    "    print(\"-\" * 30)\n"
   ]
  },
  {
   "cell_type": "markdown",
   "id": "5f2e24d2",
   "metadata": {},
   "source": [
    "### Create DataLoaders"
   ]
  },
  {
   "cell_type": "code",
   "execution_count": 29,
   "id": "cb2309ce-a656-41a4-9929-c7fe65d6c899",
   "metadata": {},
   "outputs": [],
   "source": [
    "from torch.utils.data import DataLoader\n",
    "\n",
    "batch_size = 64\n",
    "\n",
    "train_loader = DataLoader(train_dataset, batch_size=batch_size, shuffle=True, num_workers=4, pin_memory=True)\n",
    "val_loader   = DataLoader(val_dataset, batch_size=batch_size, shuffle=False, num_workers=4, pin_memory=True)\n",
    "test_loader  = DataLoader(test_dataset, batch_size=batch_size, shuffle=False, num_workers=4, pin_memory=True)\n"
   ]
  },
  {
   "cell_type": "code",
   "execution_count": 30,
   "id": "41164d0f-7617-4b7d-92ca-075312a0d85c",
   "metadata": {},
   "outputs": [
    {
     "name": "stdout",
     "output_type": "stream",
     "text": [
      "Train Batch:\n",
      "  Images shape: torch.Size([64, 3, 224, 224])\n",
      "  Labels shape: torch.Size([64, 30])\n",
      "  Average active labels per sample: 6.53\n",
      "----------------------------------------\n",
      "Val Batch:\n",
      "  Images shape: torch.Size([64, 3, 224, 224])\n",
      "  Labels shape: torch.Size([64, 30])\n",
      "  Average active labels per sample: 7.23\n",
      "----------------------------------------\n",
      "Test Batch:\n",
      "  Images shape: torch.Size([64, 3, 224, 224])\n",
      "  Labels shape: torch.Size([64, 30])\n",
      "  Average active labels per sample: 8.08\n",
      "----------------------------------------\n"
     ]
    }
   ],
   "source": [
    "for name, loader in [('Train', train_loader), ('Val', val_loader), ('Test', test_loader)]:\n",
    "    images, labels = next(iter(loader))\n",
    "    print(f\"{name} Batch:\")\n",
    "    print(f\"  Images shape: {images.shape}\")\n",
    "    print(f\"  Labels shape: {labels.shape}\")\n",
    "    print(f\"  Average active labels per sample: {labels.sum(dim=1).mean().item():.2f}\")\n",
    "    print(\"-\" * 40)\n"
   ]
  },
  {
   "cell_type": "code",
   "execution_count": 31,
   "id": "db8dbb40-acef-467a-937f-bbe68db5ed88",
   "metadata": {},
   "outputs": [
    {
     "name": "stdout",
     "output_type": "stream",
     "text": [
      "Total label columns: 30\n",
      "Label columns: ['Accessory-Backpack', 'Accessory-Bag', 'Accessory-Glasses-Normal', 'Accessory-Hat', 'Age-Adult', 'Age-Young', 'Gender-Female', 'Hair-Length-Long', 'Hair-Length-Short', 'LowerBody-Color-Black', 'LowerBody-Color-Blue', 'LowerBody-Color-Brown', 'LowerBody-Color-Grey', 'LowerBody-Color-Other', 'LowerBody-Color-White', 'LowerBody-Length-Short', 'LowerBody-Type-Skirt&Dress', 'LowerBody-Type-Trousers&Shorts', 'UpperBody-Color-Black', 'UpperBody-Color-Blue', 'UpperBody-Color-Brown', 'UpperBody-Color-Green', 'UpperBody-Color-Grey', 'UpperBody-Color-Other', 'UpperBody-Color-Pink', 'UpperBody-Color-Purple', 'UpperBody-Color-Red', 'UpperBody-Color-White', 'UpperBody-Color-Yellow', 'UpperBody-Length-Short']\n"
     ]
    }
   ],
   "source": [
    "print(f\"Total label columns: {len(label_cols)}\")\n",
    "print(\"Label columns:\", label_cols)\n"
   ]
  },
  {
   "cell_type": "markdown",
   "id": "95ce2982",
   "metadata": {},
   "source": [
    "### Define UPARModel class"
   ]
  },
  {
   "cell_type": "code",
   "execution_count": 32,
   "id": "b6621a98-5cef-491e-90f0-a17681099281",
   "metadata": {},
   "outputs": [],
   "source": [
    "import torch.nn as nn\n",
    "from torchvision import models\n",
    "\n",
    "class UPARModel(nn.Module):\n",
    "    def __init__(self, num_classes=31):\n",
    "        super(UPARModel, self).__init__()\n",
    "        base_model = models.resnet50(pretrained=True)\n",
    "        \n",
    "        # Replace the final FC layer\n",
    "        in_features = base_model.fc.in_features\n",
    "        base_model.fc = nn.Sequential(\n",
    "            nn.Dropout(0.5),\n",
    "            nn.Linear(in_features, num_classes)\n",
    "        )\n",
    "        \n",
    "        self.model = base_model\n",
    "\n",
    "    def forward(self, x):\n",
    "        return self.model(x)\n"
   ]
  },
  {
   "cell_type": "markdown",
   "id": "5c1ae4ad",
   "metadata": {},
   "source": [
    "### Initialize model and device"
   ]
  },
  {
   "cell_type": "code",
   "execution_count": 33,
   "id": "c1fdd5f7-73f7-479f-b2db-b65b539648b0",
   "metadata": {},
   "outputs": [
    {
     "name": "stderr",
     "output_type": "stream",
     "text": [
      "/home/moh/.local/lib/python3.10/site-packages/torchvision/models/_utils.py:208: UserWarning: The parameter 'pretrained' is deprecated since 0.13 and may be removed in the future, please use 'weights' instead.\n",
      "  warnings.warn(\n",
      "/home/moh/.local/lib/python3.10/site-packages/torchvision/models/_utils.py:223: UserWarning: Arguments other than a weight enum or `None` for 'weights' are deprecated since 0.13 and may be removed in the future. The current behavior is equivalent to passing `weights=ResNet50_Weights.IMAGENET1K_V1`. You can also use `weights=ResNet50_Weights.DEFAULT` to get the most up-to-date weights.\n",
      "  warnings.warn(msg)\n"
     ]
    },
    {
     "name": "stdout",
     "output_type": "stream",
     "text": [
      "Using device: cuda\n",
      "Model is on: cuda:0\n"
     ]
    }
   ],
   "source": [
    "device = torch.device('cuda' if torch.cuda.is_available() else 'cpu')\n",
    "model = UPARModel(num_classes=len(label_cols)).to(device)\n",
    "print(f\"Using device: {device}\")\n",
    "print(f\"Model is on: {next(model.parameters()).device}\")\n"
   ]
  },
  {
   "cell_type": "markdown",
   "id": "a2faf51a",
   "metadata": {},
   "source": [
    "### Loss function and optimizer"
   ]
  },
  {
   "cell_type": "code",
   "execution_count": 34,
   "id": "cab2e4ff-e84c-44f2-855d-55b22d0918e2",
   "metadata": {},
   "outputs": [],
   "source": [
    "import torch.nn as nn\n",
    "import torch.optim as optim\n",
    "from torch.amp import GradScaler, autocast\n",
    "\n",
    "# Loss function for multi-label classification\n",
    "criterion = nn.BCEWithLogitsLoss()\n",
    "\n",
    "# Optimizer\n",
    "optimizer = optim.AdamW(model.parameters(), lr=1e-4, weight_decay=1e-4)\n",
    "\n",
    "# Scheduler (Cosine Annealing)\n",
    "scheduler = optim.lr_scheduler.CosineAnnealingLR(optimizer, T_max=10)\n",
    "\n",
    "# Mixed Precision Training\n",
    "scaler = GradScaler()\n"
   ]
  },
  {
   "cell_type": "markdown",
   "id": "51c53ea5",
   "metadata": {},
   "source": [
    "### Mixed precision setup"
   ]
  },
  {
   "cell_type": "code",
   "execution_count": 35,
   "id": "f73df4ce-def2-4dd6-85dd-27d917d1e539",
   "metadata": {},
   "outputs": [],
   "source": [
    "import torch\n",
    "import torch.nn as nn\n",
    "import torch.optim as optim\n",
    "from torch.amp import GradScaler, autocast\n",
    "from torchvision import transforms\n",
    "from tqdm import tqdm\n",
    "from contextlib import nullcontext\n",
    "\n",
    "# Image Transform (using average dataset size)\n",
    "transform = transforms.Compose([\n",
    "    transforms.Resize((231, 93)),  # average HxW\n",
    "    transforms.ToTensor(),\n",
    "    transforms.Normalize([0.5]*3, [0.5]*3)\n",
    "])\n",
    "\n",
    "# Training Function\n",
    "def train_upar_model(model, train_loader, val_loader, criterion, optimizer, scheduler, scaler, device, num_epochs=30, early_stop_patience=5):\n",
    "    best_val_loss = float('inf')\n",
    "    epochs_without_improvement = 0\n",
    "\n",
    "    for epoch in range(num_epochs):\n",
    "        model.train()\n",
    "        total_loss = 0.0\n",
    "        correct = 0\n",
    "        total = 0\n",
    "\n",
    "        print(f\"\\nEpoch {epoch+1}/{num_epochs}\")\n",
    "        pbar = tqdm(train_loader, desc=\"Training\", leave=False)\n",
    "\n",
    "        for images, labels in pbar:\n",
    "            images = images.to(device)\n",
    "            labels = labels.to(device)\n",
    "\n",
    "            optimizer.zero_grad()\n",
    "            context = autocast(device_type='cuda') if device.type == 'cuda' else nullcontext()\n",
    "            with context:\n",
    "                outputs = model(images)\n",
    "                loss = criterion(outputs, labels)\n",
    "\n",
    "            scaler.scale(loss).backward()\n",
    "            scaler.step(optimizer)\n",
    "            scaler.update()\n",
    "\n",
    "            total_loss += loss.item()\n",
    "\n",
    "            preds = (torch.sigmoid(outputs) > 0.5).float()\n",
    "            correct += (preds == labels).float().sum().item()\n",
    "            total += labels.numel()\n",
    "\n",
    "            pbar.set_postfix(loss=loss.item())\n",
    "\n",
    "        scheduler.step()\n",
    "        avg_train_loss = total_loss / len(train_loader)\n",
    "        train_acc = 100 * correct / total\n",
    "        print(f\"Train Loss: {avg_train_loss:.4f} | Train Accuracy: {train_acc:.2f}%\")\n",
    "\n",
    "        # Validation\n",
    "        model.eval()\n",
    "        val_loss = 0.0\n",
    "        val_correct = 0\n",
    "        val_total = 0\n",
    "\n",
    "        with torch.no_grad():\n",
    "            for images, labels in tqdm(val_loader, desc=\"Validating\", leave=False):\n",
    "                images = images.to(device)\n",
    "                labels = labels.to(device)\n",
    "\n",
    "                context = autocast(device_type='cuda') if device.type == 'cuda' else nullcontext()\n",
    "                with context:\n",
    "                    outputs = model(images)\n",
    "                    loss = criterion(outputs, labels)\n",
    "\n",
    "                val_loss += loss.item()\n",
    "                preds = (torch.sigmoid(outputs) > 0.5).float()\n",
    "                val_correct += (preds == labels).float().sum().item()\n",
    "                val_total += labels.numel()\n",
    "\n",
    "        avg_val_loss = val_loss / len(val_loader)\n",
    "        val_acc = 100 * val_correct / val_total\n",
    "        print(f\"Val Loss:   {avg_val_loss:.4f} | Val Accuracy: {val_acc:.2f}%\")\n",
    "\n",
    "        # Save best model and early stop\n",
    "        if avg_val_loss < best_val_loss:\n",
    "            best_val_loss = avg_val_loss\n",
    "            epochs_without_improvement = 0\n",
    "            torch.save(model.state_dict(), \"best_upar_model.pth\")\n",
    "            print(\"### Validation improved. Model saved ###\")\n",
    "        else:\n",
    "            epochs_without_improvement += 1\n",
    "            if epochs_without_improvement >= early_stop_patience:\n",
    "                print(f\"\\nEarly stopping triggered after {epoch+1} epochs. No improvement for {early_stop_patience} epochs.\")\n",
    "                break\n"
   ]
  },
  {
   "cell_type": "code",
   "execution_count": 36,
   "id": "476447c5-4d0e-44a3-94ed-3b36157f0077",
   "metadata": {},
   "outputs": [
    {
     "name": "stdout",
     "output_type": "stream",
     "text": [
      "\n",
      "Epoch 1/30\n"
     ]
    },
    {
     "name": "stderr",
     "output_type": "stream",
     "text": [
      "                                                                                                              "
     ]
    },
    {
     "name": "stdout",
     "output_type": "stream",
     "text": [
      "Train Loss: 0.1678 | Train Accuracy: 93.54%\n"
     ]
    },
    {
     "name": "stderr",
     "output_type": "stream",
     "text": [
      "                                                                                                              "
     ]
    },
    {
     "name": "stdout",
     "output_type": "stream",
     "text": [
      "Val Loss:   0.1329 | Val Accuracy: 94.91%\n",
      "### Validation improved. Model saved ###\n",
      "\n",
      "Epoch 2/30\n"
     ]
    },
    {
     "name": "stderr",
     "output_type": "stream",
     "text": [
      "                                                                                                              "
     ]
    },
    {
     "name": "stdout",
     "output_type": "stream",
     "text": [
      "Train Loss: 0.1214 | Train Accuracy: 95.41%\n"
     ]
    },
    {
     "name": "stderr",
     "output_type": "stream",
     "text": [
      "                                                                                                              "
     ]
    },
    {
     "name": "stdout",
     "output_type": "stream",
     "text": [
      "Val Loss:   0.1193 | Val Accuracy: 95.46%\n",
      "### Validation improved. Model saved ###\n",
      "\n",
      "Epoch 3/30\n"
     ]
    },
    {
     "name": "stderr",
     "output_type": "stream",
     "text": [
      "                                                                                                              "
     ]
    },
    {
     "name": "stdout",
     "output_type": "stream",
     "text": [
      "Train Loss: 0.0997 | Train Accuracy: 96.27%\n"
     ]
    },
    {
     "name": "stderr",
     "output_type": "stream",
     "text": [
      "                                                                                                              "
     ]
    },
    {
     "name": "stdout",
     "output_type": "stream",
     "text": [
      "Val Loss:   0.1191 | Val Accuracy: 95.53%\n",
      "### Validation improved. Model saved ###\n",
      "\n",
      "Epoch 4/30\n"
     ]
    },
    {
     "name": "stderr",
     "output_type": "stream",
     "text": [
      "                                                                                                              "
     ]
    },
    {
     "name": "stdout",
     "output_type": "stream",
     "text": [
      "Train Loss: 0.0792 | Train Accuracy: 97.07%\n"
     ]
    },
    {
     "name": "stderr",
     "output_type": "stream",
     "text": [
      "                                                                                                              "
     ]
    },
    {
     "name": "stdout",
     "output_type": "stream",
     "text": [
      "Val Loss:   0.1185 | Val Accuracy: 95.66%\n",
      "### Validation improved. Model saved ###\n",
      "\n",
      "Epoch 5/30\n"
     ]
    },
    {
     "name": "stderr",
     "output_type": "stream",
     "text": [
      "                                                                                                              "
     ]
    },
    {
     "name": "stdout",
     "output_type": "stream",
     "text": [
      "Train Loss: 0.0581 | Train Accuracy: 97.90%\n"
     ]
    },
    {
     "name": "stderr",
     "output_type": "stream",
     "text": [
      "                                                                                                              "
     ]
    },
    {
     "name": "stdout",
     "output_type": "stream",
     "text": [
      "Val Loss:   0.1277 | Val Accuracy: 95.70%\n",
      "\n",
      "Epoch 6/30\n"
     ]
    },
    {
     "name": "stderr",
     "output_type": "stream",
     "text": [
      "                                                                                                              "
     ]
    },
    {
     "name": "stdout",
     "output_type": "stream",
     "text": [
      "Train Loss: 0.0379 | Train Accuracy: 98.69%\n"
     ]
    },
    {
     "name": "stderr",
     "output_type": "stream",
     "text": [
      "                                                                                                              "
     ]
    },
    {
     "name": "stdout",
     "output_type": "stream",
     "text": [
      "Val Loss:   0.1432 | Val Accuracy: 95.65%\n",
      "\n",
      "Epoch 7/30\n"
     ]
    },
    {
     "name": "stderr",
     "output_type": "stream",
     "text": [
      "                                                                                                              "
     ]
    },
    {
     "name": "stdout",
     "output_type": "stream",
     "text": [
      "Train Loss: 0.0224 | Train Accuracy: 99.29%\n"
     ]
    },
    {
     "name": "stderr",
     "output_type": "stream",
     "text": [
      "                                                                                                              "
     ]
    },
    {
     "name": "stdout",
     "output_type": "stream",
     "text": [
      "Val Loss:   0.1559 | Val Accuracy: 95.68%\n",
      "\n",
      "Epoch 8/30\n"
     ]
    },
    {
     "name": "stderr",
     "output_type": "stream",
     "text": [
      "                                                                                                              "
     ]
    },
    {
     "name": "stdout",
     "output_type": "stream",
     "text": [
      "Train Loss: 0.0131 | Train Accuracy: 99.63%\n"
     ]
    },
    {
     "name": "stderr",
     "output_type": "stream",
     "text": [
      "                                                                                                              "
     ]
    },
    {
     "name": "stdout",
     "output_type": "stream",
     "text": [
      "Val Loss:   0.1628 | Val Accuracy: 95.78%\n",
      "\n",
      "Epoch 9/30\n"
     ]
    },
    {
     "name": "stderr",
     "output_type": "stream",
     "text": [
      "                                                                                                              "
     ]
    },
    {
     "name": "stdout",
     "output_type": "stream",
     "text": [
      "Train Loss: 0.0081 | Train Accuracy: 99.81%\n"
     ]
    },
    {
     "name": "stderr",
     "output_type": "stream",
     "text": [
      "                                                                                                              "
     ]
    },
    {
     "name": "stdout",
     "output_type": "stream",
     "text": [
      "Val Loss:   0.1678 | Val Accuracy: 95.81%\n",
      "\n",
      "Early stopping triggered after 9 epochs. No improvement for 5 epochs.\n"
     ]
    },
    {
     "name": "stderr",
     "output_type": "stream",
     "text": []
    }
   ],
   "source": [
    "train_upar_model(\n",
    "    model,\n",
    "    train_loader,\n",
    "    val_loader,\n",
    "    criterion,\n",
    "    optimizer,\n",
    "    scheduler,\n",
    "    scaler,\n",
    "    device,\n",
    "    num_epochs=30\n",
    ")\n"
   ]
  },
  {
   "cell_type": "markdown",
   "id": "cb70d4e6",
   "metadata": {},
   "source": [
    "### Initialize model and device"
   ]
  },
  {
   "cell_type": "code",
   "execution_count": 42,
   "id": "23245bbd-db2d-4380-99e6-35a93bdb110b",
   "metadata": {},
   "outputs": [
    {
     "data": {
      "text/plain": [
       "UPARModel(\n",
       "  (model): ResNet(\n",
       "    (conv1): Conv2d(3, 64, kernel_size=(7, 7), stride=(2, 2), padding=(3, 3), bias=False)\n",
       "    (bn1): BatchNorm2d(64, eps=1e-05, momentum=0.1, affine=True, track_running_stats=True)\n",
       "    (relu): ReLU(inplace=True)\n",
       "    (maxpool): MaxPool2d(kernel_size=3, stride=2, padding=1, dilation=1, ceil_mode=False)\n",
       "    (layer1): Sequential(\n",
       "      (0): Bottleneck(\n",
       "        (conv1): Conv2d(64, 64, kernel_size=(1, 1), stride=(1, 1), bias=False)\n",
       "        (bn1): BatchNorm2d(64, eps=1e-05, momentum=0.1, affine=True, track_running_stats=True)\n",
       "        (conv2): Conv2d(64, 64, kernel_size=(3, 3), stride=(1, 1), padding=(1, 1), bias=False)\n",
       "        (bn2): BatchNorm2d(64, eps=1e-05, momentum=0.1, affine=True, track_running_stats=True)\n",
       "        (conv3): Conv2d(64, 256, kernel_size=(1, 1), stride=(1, 1), bias=False)\n",
       "        (bn3): BatchNorm2d(256, eps=1e-05, momentum=0.1, affine=True, track_running_stats=True)\n",
       "        (relu): ReLU(inplace=True)\n",
       "        (downsample): Sequential(\n",
       "          (0): Conv2d(64, 256, kernel_size=(1, 1), stride=(1, 1), bias=False)\n",
       "          (1): BatchNorm2d(256, eps=1e-05, momentum=0.1, affine=True, track_running_stats=True)\n",
       "        )\n",
       "      )\n",
       "      (1): Bottleneck(\n",
       "        (conv1): Conv2d(256, 64, kernel_size=(1, 1), stride=(1, 1), bias=False)\n",
       "        (bn1): BatchNorm2d(64, eps=1e-05, momentum=0.1, affine=True, track_running_stats=True)\n",
       "        (conv2): Conv2d(64, 64, kernel_size=(3, 3), stride=(1, 1), padding=(1, 1), bias=False)\n",
       "        (bn2): BatchNorm2d(64, eps=1e-05, momentum=0.1, affine=True, track_running_stats=True)\n",
       "        (conv3): Conv2d(64, 256, kernel_size=(1, 1), stride=(1, 1), bias=False)\n",
       "        (bn3): BatchNorm2d(256, eps=1e-05, momentum=0.1, affine=True, track_running_stats=True)\n",
       "        (relu): ReLU(inplace=True)\n",
       "      )\n",
       "      (2): Bottleneck(\n",
       "        (conv1): Conv2d(256, 64, kernel_size=(1, 1), stride=(1, 1), bias=False)\n",
       "        (bn1): BatchNorm2d(64, eps=1e-05, momentum=0.1, affine=True, track_running_stats=True)\n",
       "        (conv2): Conv2d(64, 64, kernel_size=(3, 3), stride=(1, 1), padding=(1, 1), bias=False)\n",
       "        (bn2): BatchNorm2d(64, eps=1e-05, momentum=0.1, affine=True, track_running_stats=True)\n",
       "        (conv3): Conv2d(64, 256, kernel_size=(1, 1), stride=(1, 1), bias=False)\n",
       "        (bn3): BatchNorm2d(256, eps=1e-05, momentum=0.1, affine=True, track_running_stats=True)\n",
       "        (relu): ReLU(inplace=True)\n",
       "      )\n",
       "    )\n",
       "    (layer2): Sequential(\n",
       "      (0): Bottleneck(\n",
       "        (conv1): Conv2d(256, 128, kernel_size=(1, 1), stride=(1, 1), bias=False)\n",
       "        (bn1): BatchNorm2d(128, eps=1e-05, momentum=0.1, affine=True, track_running_stats=True)\n",
       "        (conv2): Conv2d(128, 128, kernel_size=(3, 3), stride=(2, 2), padding=(1, 1), bias=False)\n",
       "        (bn2): BatchNorm2d(128, eps=1e-05, momentum=0.1, affine=True, track_running_stats=True)\n",
       "        (conv3): Conv2d(128, 512, kernel_size=(1, 1), stride=(1, 1), bias=False)\n",
       "        (bn3): BatchNorm2d(512, eps=1e-05, momentum=0.1, affine=True, track_running_stats=True)\n",
       "        (relu): ReLU(inplace=True)\n",
       "        (downsample): Sequential(\n",
       "          (0): Conv2d(256, 512, kernel_size=(1, 1), stride=(2, 2), bias=False)\n",
       "          (1): BatchNorm2d(512, eps=1e-05, momentum=0.1, affine=True, track_running_stats=True)\n",
       "        )\n",
       "      )\n",
       "      (1): Bottleneck(\n",
       "        (conv1): Conv2d(512, 128, kernel_size=(1, 1), stride=(1, 1), bias=False)\n",
       "        (bn1): BatchNorm2d(128, eps=1e-05, momentum=0.1, affine=True, track_running_stats=True)\n",
       "        (conv2): Conv2d(128, 128, kernel_size=(3, 3), stride=(1, 1), padding=(1, 1), bias=False)\n",
       "        (bn2): BatchNorm2d(128, eps=1e-05, momentum=0.1, affine=True, track_running_stats=True)\n",
       "        (conv3): Conv2d(128, 512, kernel_size=(1, 1), stride=(1, 1), bias=False)\n",
       "        (bn3): BatchNorm2d(512, eps=1e-05, momentum=0.1, affine=True, track_running_stats=True)\n",
       "        (relu): ReLU(inplace=True)\n",
       "      )\n",
       "      (2): Bottleneck(\n",
       "        (conv1): Conv2d(512, 128, kernel_size=(1, 1), stride=(1, 1), bias=False)\n",
       "        (bn1): BatchNorm2d(128, eps=1e-05, momentum=0.1, affine=True, track_running_stats=True)\n",
       "        (conv2): Conv2d(128, 128, kernel_size=(3, 3), stride=(1, 1), padding=(1, 1), bias=False)\n",
       "        (bn2): BatchNorm2d(128, eps=1e-05, momentum=0.1, affine=True, track_running_stats=True)\n",
       "        (conv3): Conv2d(128, 512, kernel_size=(1, 1), stride=(1, 1), bias=False)\n",
       "        (bn3): BatchNorm2d(512, eps=1e-05, momentum=0.1, affine=True, track_running_stats=True)\n",
       "        (relu): ReLU(inplace=True)\n",
       "      )\n",
       "      (3): Bottleneck(\n",
       "        (conv1): Conv2d(512, 128, kernel_size=(1, 1), stride=(1, 1), bias=False)\n",
       "        (bn1): BatchNorm2d(128, eps=1e-05, momentum=0.1, affine=True, track_running_stats=True)\n",
       "        (conv2): Conv2d(128, 128, kernel_size=(3, 3), stride=(1, 1), padding=(1, 1), bias=False)\n",
       "        (bn2): BatchNorm2d(128, eps=1e-05, momentum=0.1, affine=True, track_running_stats=True)\n",
       "        (conv3): Conv2d(128, 512, kernel_size=(1, 1), stride=(1, 1), bias=False)\n",
       "        (bn3): BatchNorm2d(512, eps=1e-05, momentum=0.1, affine=True, track_running_stats=True)\n",
       "        (relu): ReLU(inplace=True)\n",
       "      )\n",
       "    )\n",
       "    (layer3): Sequential(\n",
       "      (0): Bottleneck(\n",
       "        (conv1): Conv2d(512, 256, kernel_size=(1, 1), stride=(1, 1), bias=False)\n",
       "        (bn1): BatchNorm2d(256, eps=1e-05, momentum=0.1, affine=True, track_running_stats=True)\n",
       "        (conv2): Conv2d(256, 256, kernel_size=(3, 3), stride=(2, 2), padding=(1, 1), bias=False)\n",
       "        (bn2): BatchNorm2d(256, eps=1e-05, momentum=0.1, affine=True, track_running_stats=True)\n",
       "        (conv3): Conv2d(256, 1024, kernel_size=(1, 1), stride=(1, 1), bias=False)\n",
       "        (bn3): BatchNorm2d(1024, eps=1e-05, momentum=0.1, affine=True, track_running_stats=True)\n",
       "        (relu): ReLU(inplace=True)\n",
       "        (downsample): Sequential(\n",
       "          (0): Conv2d(512, 1024, kernel_size=(1, 1), stride=(2, 2), bias=False)\n",
       "          (1): BatchNorm2d(1024, eps=1e-05, momentum=0.1, affine=True, track_running_stats=True)\n",
       "        )\n",
       "      )\n",
       "      (1): Bottleneck(\n",
       "        (conv1): Conv2d(1024, 256, kernel_size=(1, 1), stride=(1, 1), bias=False)\n",
       "        (bn1): BatchNorm2d(256, eps=1e-05, momentum=0.1, affine=True, track_running_stats=True)\n",
       "        (conv2): Conv2d(256, 256, kernel_size=(3, 3), stride=(1, 1), padding=(1, 1), bias=False)\n",
       "        (bn2): BatchNorm2d(256, eps=1e-05, momentum=0.1, affine=True, track_running_stats=True)\n",
       "        (conv3): Conv2d(256, 1024, kernel_size=(1, 1), stride=(1, 1), bias=False)\n",
       "        (bn3): BatchNorm2d(1024, eps=1e-05, momentum=0.1, affine=True, track_running_stats=True)\n",
       "        (relu): ReLU(inplace=True)\n",
       "      )\n",
       "      (2): Bottleneck(\n",
       "        (conv1): Conv2d(1024, 256, kernel_size=(1, 1), stride=(1, 1), bias=False)\n",
       "        (bn1): BatchNorm2d(256, eps=1e-05, momentum=0.1, affine=True, track_running_stats=True)\n",
       "        (conv2): Conv2d(256, 256, kernel_size=(3, 3), stride=(1, 1), padding=(1, 1), bias=False)\n",
       "        (bn2): BatchNorm2d(256, eps=1e-05, momentum=0.1, affine=True, track_running_stats=True)\n",
       "        (conv3): Conv2d(256, 1024, kernel_size=(1, 1), stride=(1, 1), bias=False)\n",
       "        (bn3): BatchNorm2d(1024, eps=1e-05, momentum=0.1, affine=True, track_running_stats=True)\n",
       "        (relu): ReLU(inplace=True)\n",
       "      )\n",
       "      (3): Bottleneck(\n",
       "        (conv1): Conv2d(1024, 256, kernel_size=(1, 1), stride=(1, 1), bias=False)\n",
       "        (bn1): BatchNorm2d(256, eps=1e-05, momentum=0.1, affine=True, track_running_stats=True)\n",
       "        (conv2): Conv2d(256, 256, kernel_size=(3, 3), stride=(1, 1), padding=(1, 1), bias=False)\n",
       "        (bn2): BatchNorm2d(256, eps=1e-05, momentum=0.1, affine=True, track_running_stats=True)\n",
       "        (conv3): Conv2d(256, 1024, kernel_size=(1, 1), stride=(1, 1), bias=False)\n",
       "        (bn3): BatchNorm2d(1024, eps=1e-05, momentum=0.1, affine=True, track_running_stats=True)\n",
       "        (relu): ReLU(inplace=True)\n",
       "      )\n",
       "      (4): Bottleneck(\n",
       "        (conv1): Conv2d(1024, 256, kernel_size=(1, 1), stride=(1, 1), bias=False)\n",
       "        (bn1): BatchNorm2d(256, eps=1e-05, momentum=0.1, affine=True, track_running_stats=True)\n",
       "        (conv2): Conv2d(256, 256, kernel_size=(3, 3), stride=(1, 1), padding=(1, 1), bias=False)\n",
       "        (bn2): BatchNorm2d(256, eps=1e-05, momentum=0.1, affine=True, track_running_stats=True)\n",
       "        (conv3): Conv2d(256, 1024, kernel_size=(1, 1), stride=(1, 1), bias=False)\n",
       "        (bn3): BatchNorm2d(1024, eps=1e-05, momentum=0.1, affine=True, track_running_stats=True)\n",
       "        (relu): ReLU(inplace=True)\n",
       "      )\n",
       "      (5): Bottleneck(\n",
       "        (conv1): Conv2d(1024, 256, kernel_size=(1, 1), stride=(1, 1), bias=False)\n",
       "        (bn1): BatchNorm2d(256, eps=1e-05, momentum=0.1, affine=True, track_running_stats=True)\n",
       "        (conv2): Conv2d(256, 256, kernel_size=(3, 3), stride=(1, 1), padding=(1, 1), bias=False)\n",
       "        (bn2): BatchNorm2d(256, eps=1e-05, momentum=0.1, affine=True, track_running_stats=True)\n",
       "        (conv3): Conv2d(256, 1024, kernel_size=(1, 1), stride=(1, 1), bias=False)\n",
       "        (bn3): BatchNorm2d(1024, eps=1e-05, momentum=0.1, affine=True, track_running_stats=True)\n",
       "        (relu): ReLU(inplace=True)\n",
       "      )\n",
       "    )\n",
       "    (layer4): Sequential(\n",
       "      (0): Bottleneck(\n",
       "        (conv1): Conv2d(1024, 512, kernel_size=(1, 1), stride=(1, 1), bias=False)\n",
       "        (bn1): BatchNorm2d(512, eps=1e-05, momentum=0.1, affine=True, track_running_stats=True)\n",
       "        (conv2): Conv2d(512, 512, kernel_size=(3, 3), stride=(2, 2), padding=(1, 1), bias=False)\n",
       "        (bn2): BatchNorm2d(512, eps=1e-05, momentum=0.1, affine=True, track_running_stats=True)\n",
       "        (conv3): Conv2d(512, 2048, kernel_size=(1, 1), stride=(1, 1), bias=False)\n",
       "        (bn3): BatchNorm2d(2048, eps=1e-05, momentum=0.1, affine=True, track_running_stats=True)\n",
       "        (relu): ReLU(inplace=True)\n",
       "        (downsample): Sequential(\n",
       "          (0): Conv2d(1024, 2048, kernel_size=(1, 1), stride=(2, 2), bias=False)\n",
       "          (1): BatchNorm2d(2048, eps=1e-05, momentum=0.1, affine=True, track_running_stats=True)\n",
       "        )\n",
       "      )\n",
       "      (1): Bottleneck(\n",
       "        (conv1): Conv2d(2048, 512, kernel_size=(1, 1), stride=(1, 1), bias=False)\n",
       "        (bn1): BatchNorm2d(512, eps=1e-05, momentum=0.1, affine=True, track_running_stats=True)\n",
       "        (conv2): Conv2d(512, 512, kernel_size=(3, 3), stride=(1, 1), padding=(1, 1), bias=False)\n",
       "        (bn2): BatchNorm2d(512, eps=1e-05, momentum=0.1, affine=True, track_running_stats=True)\n",
       "        (conv3): Conv2d(512, 2048, kernel_size=(1, 1), stride=(1, 1), bias=False)\n",
       "        (bn3): BatchNorm2d(2048, eps=1e-05, momentum=0.1, affine=True, track_running_stats=True)\n",
       "        (relu): ReLU(inplace=True)\n",
       "      )\n",
       "      (2): Bottleneck(\n",
       "        (conv1): Conv2d(2048, 512, kernel_size=(1, 1), stride=(1, 1), bias=False)\n",
       "        (bn1): BatchNorm2d(512, eps=1e-05, momentum=0.1, affine=True, track_running_stats=True)\n",
       "        (conv2): Conv2d(512, 512, kernel_size=(3, 3), stride=(1, 1), padding=(1, 1), bias=False)\n",
       "        (bn2): BatchNorm2d(512, eps=1e-05, momentum=0.1, affine=True, track_running_stats=True)\n",
       "        (conv3): Conv2d(512, 2048, kernel_size=(1, 1), stride=(1, 1), bias=False)\n",
       "        (bn3): BatchNorm2d(2048, eps=1e-05, momentum=0.1, affine=True, track_running_stats=True)\n",
       "        (relu): ReLU(inplace=True)\n",
       "      )\n",
       "    )\n",
       "    (avgpool): AdaptiveAvgPool2d(output_size=(1, 1))\n",
       "    (fc): Sequential(\n",
       "      (0): Dropout(p=0.5, inplace=False)\n",
       "      (1): Linear(in_features=2048, out_features=30, bias=True)\n",
       "    )\n",
       "  )\n",
       ")"
      ]
     },
     "execution_count": 42,
     "metadata": {},
     "output_type": "execute_result"
    }
   ],
   "source": [
    "# Load the best model from saved weights\n",
    "best_model = UPARModel(num_classes=len(label_cols)).to(device)\n",
    "best_model.load_state_dict(torch.load(\"best_upar_model.pth\"))\n",
    "best_model.eval()\n"
   ]
  },
  {
   "cell_type": "markdown",
   "id": "b5740fe6",
   "metadata": {},
   "source": [
    "### Validation loop"
   ]
  },
  {
   "cell_type": "code",
   "execution_count": 43,
   "id": "f80a8547-a89b-47ef-99a1-cb3e446f3b45",
   "metadata": {},
   "outputs": [
    {
     "name": "stderr",
     "output_type": "stream",
     "text": [
      "Testing: 100%|██████████████████████████████████████████████████████████████| 707/707 [00:36<00:00, 19.47it/s]\n"
     ]
    },
    {
     "name": "stdout",
     "output_type": "stream",
     "text": [
      "                                precision    recall  f1-score   support\n",
      "\n",
      "            Accessory-Backpack       0.85      0.70      0.77      5562\n",
      "                 Accessory-Bag       0.74      0.64      0.69     10149\n",
      "      Accessory-Glasses-Normal       0.72      0.54      0.62      4839\n",
      "                 Accessory-Hat       0.81      0.59      0.69      1459\n",
      "                     Age-Adult       0.98      0.99      0.99     42786\n",
      "                     Age-Young       0.79      0.67      0.72      1401\n",
      "                 Gender-Female       0.92      0.94      0.93     17246\n",
      "              Hair-Length-Long       0.93      0.81      0.86     12137\n",
      "             Hair-Length-Short       0.94      0.96      0.95     32136\n",
      "         LowerBody-Color-Black       0.93      0.88      0.90     24641\n",
      "          LowerBody-Color-Blue       0.79      0.83      0.81     10253\n",
      "         LowerBody-Color-Brown       0.64      0.64      0.64      1289\n",
      "          LowerBody-Color-Grey       0.74      0.58      0.65      5883\n",
      "         LowerBody-Color-Other       0.63      0.31      0.42      1326\n",
      "         LowerBody-Color-White       0.63      0.52      0.57      1606\n",
      "        LowerBody-Length-Short       0.96      0.93      0.94     10148\n",
      "    LowerBody-Type-Skirt&Dress       0.75      0.78      0.77      3811\n",
      "LowerBody-Type-Trousers&Shorts       0.98      0.99      0.98     42278\n",
      "         UpperBody-Color-Black       0.89      0.85      0.87     15808\n",
      "          UpperBody-Color-Blue       0.81      0.72      0.76      4900\n",
      "         UpperBody-Color-Brown       0.48      0.44      0.46       893\n",
      "         UpperBody-Color-Green       0.79      0.71      0.75      2105\n",
      "          UpperBody-Color-Grey       0.74      0.68      0.71      8438\n",
      "         UpperBody-Color-Other       0.74      0.59      0.66      4890\n",
      "          UpperBody-Color-Pink       0.71      0.48      0.57       813\n",
      "        UpperBody-Color-Purple       0.58      0.68      0.62      1015\n",
      "           UpperBody-Color-Red       0.82      0.83      0.82      3977\n",
      "         UpperBody-Color-White       0.85      0.72      0.78     10170\n",
      "        UpperBody-Color-Yellow       0.86      0.73      0.79      2205\n",
      "        UpperBody-Length-Short       0.93      0.95      0.94     18675\n",
      "\n",
      "                     micro avg       0.90      0.87      0.88    302839\n",
      "                     macro avg       0.80      0.72      0.75    302839\n",
      "                  weighted avg       0.90      0.87      0.88    302839\n",
      "                   samples avg       0.90      0.87      0.88    302839\n",
      "\n"
     ]
    }
   ],
   "source": [
    "from sklearn.metrics import classification_report\n",
    "import numpy as np\n",
    "from tqdm import tqdm\n",
    "import torch\n",
    "\n",
    "# Make sure best_model is already loaded and on correct device\n",
    "best_model.eval()\n",
    "\n",
    "all_preds = []\n",
    "all_labels = []\n",
    "\n",
    "with torch.no_grad():\n",
    "    for images, labels in tqdm(test_loader, desc=\"Testing\"):\n",
    "        images = images.to(device)\n",
    "        labels = labels.to(device)\n",
    "\n",
    "        with autocast(device_type=device.type) if device.type == \"cuda\" else nullcontext():\n",
    "            outputs = best_model(images)\n",
    "            preds = (torch.sigmoid(outputs) > 0.5).float()\n",
    "\n",
    "        all_preds.append(preds.cpu())\n",
    "        all_labels.append(labels.cpu())\n",
    "\n",
    "# Stack predictions and ground truths\n",
    "all_preds = torch.cat(all_preds).numpy()\n",
    "all_labels = torch.cat(all_labels).numpy()\n",
    "\n",
    "# Generate a classification report\n",
    "print(classification_report(all_labels, all_preds, target_names=label_cols))\n"
   ]
  },
  {
   "cell_type": "markdown",
   "id": "b86668ad",
   "metadata": {},
   "source": [
    "### Validation loop"
   ]
  },
  {
   "cell_type": "code",
   "execution_count": 52,
   "id": "2c7449ca-3edb-42fc-97d5-342afaeb2ee8",
   "metadata": {},
   "outputs": [
    {
     "name": "stdout",
     "output_type": "stream",
     "text": [
      "Predicted Attributes:\n",
      "- Accessory-Bag\n",
      "- Age-Adult\n",
      "- Gender-Female\n",
      "- Hair-Length-Long\n",
      "- LowerBody-Type-Trousers&Shorts\n",
      "- UpperBody-Color-Black\n",
      "- UpperBody-Length-Short\n"
     ]
    }
   ],
   "source": [
    "from PIL import Image\n",
    "import torch\n",
    "import torchvision.transforms as transforms\n",
    "from torch.amp import autocast\n",
    "from contextlib import nullcontext\n",
    "\n",
    "# Load and preprocess image (match training config)\n",
    "transform = transforms.Compose([\n",
    "    transforms.Resize((231, 93)),  # match avg dataset size\n",
    "    transforms.ToTensor(),\n",
    "    transforms.Normalize(mean=[0.5, 0.5, 0.5], std=[0.5, 0.5, 0.5])  # match training\n",
    "])\n",
    "\n",
    "image_path = \"aaa.png\"\n",
    "image = Image.open(image_path).convert(\"RGB\")\n",
    "input_tensor = transform(image).unsqueeze(0).to(device)\n",
    "\n",
    "# Inference\n",
    "best_model.eval()\n",
    "with torch.no_grad():\n",
    "    with autocast(device_type=device.type) if device.type == \"cuda\" else nullcontext():\n",
    "        output = best_model(input_tensor)\n",
    "        probs = torch.sigmoid(output).squeeze()\n",
    "\n",
    "# Thresholding at 0.5\n",
    "predicted_labels = [label_cols[i] for i, p in enumerate(probs) if p > 0.45]\n",
    "\n",
    "# Print results\n",
    "print(\"Predicted Attributes:\")\n",
    "for attr in predicted_labels:\n",
    "    print(f\"- {attr}\")\n"
   ]
  },
  {
   "cell_type": "code",
   "execution_count": 40,
   "id": "e856bdd4-ba11-4dfd-822b-f24581473127",
   "metadata": {},
   "outputs": [
    {
     "name": "stdout",
     "output_type": "stream",
     "text": [
      "Average Width: 92.79px\n",
      "Average Height: 230.86px\n"
     ]
    }
   ],
   "source": [
    "import os\n",
    "from PIL import Image\n",
    "import numpy as np\n",
    "\n",
    "# Set the path to your image directory\n",
    "image_dir = 'data'  # Change this if your path is different\n",
    "\n",
    "image_sizes = []\n",
    "\n",
    "# Walk through all image files\n",
    "for root, _, files in os.walk(image_dir):\n",
    "    for file in files:\n",
    "        if file.lower().endswith(('.jpg', '.jpeg', '.png')):\n",
    "            try:\n",
    "                img_path = os.path.join(root, file)\n",
    "                with Image.open(img_path) as img:\n",
    "                    image_sizes.append(img.size)  # (width, height)\n",
    "            except:\n",
    "                continue\n",
    "\n",
    "# Calculate and print average width and height\n",
    "if image_sizes:\n",
    "    widths, heights = zip(*image_sizes)\n",
    "    avg_width = np.mean(widths)\n",
    "    avg_height = np.mean(heights)\n",
    "    print(f\"Average Width: {avg_width:.2f}px\")\n",
    "    print(f\"Average Height: {avg_height:.2f}px\")\n",
    "else:\n",
    "    print(\"No images found.\")\n"
   ]
  },
  {
   "cell_type": "code",
   "execution_count": null,
   "id": "7991ecad-6076-45bd-8281-cf0f24fef574",
   "metadata": {},
   "outputs": [],
   "source": []
  },
  {
   "cell_type": "code",
   "execution_count": null,
   "id": "ea5f354a-610f-46ed-a806-65ee04477d63",
   "metadata": {},
   "outputs": [],
   "source": []
  },
  {
   "cell_type": "code",
   "execution_count": null,
   "id": "72a2828b-407a-4b5c-ae0c-e4957039af0b",
   "metadata": {},
   "outputs": [],
   "source": []
  },
  {
   "cell_type": "code",
   "execution_count": null,
   "id": "da90aea2-d83b-472a-b580-4a21876ea581",
   "metadata": {},
   "outputs": [],
   "source": []
  },
  {
   "cell_type": "code",
   "execution_count": null,
   "id": "10e4e8a4-437c-4d35-bbe2-85b898e24625",
   "metadata": {},
   "outputs": [],
   "source": []
  },
  {
   "cell_type": "code",
   "execution_count": null,
   "id": "0a993200-a924-40fc-bb7f-01dbd567e9c8",
   "metadata": {},
   "outputs": [],
   "source": []
  },
  {
   "cell_type": "code",
   "execution_count": null,
   "id": "727d550b-3b95-482e-a5e4-22f93b3a4330",
   "metadata": {},
   "outputs": [],
   "source": []
  },
  {
   "cell_type": "code",
   "execution_count": null,
   "id": "e813d827-f661-41de-9122-cc344417b021",
   "metadata": {},
   "outputs": [],
   "source": []
  }
 ],
 "metadata": {
  "kernelspec": {
   "display_name": "Python 3 (ipykernel)",
   "language": "python",
   "name": "python3"
  },
  "language_info": {
   "codemirror_mode": {
    "name": "ipython",
    "version": 3
   },
   "file_extension": ".py",
   "mimetype": "text/x-python",
   "name": "python",
   "nbconvert_exporter": "python",
   "pygments_lexer": "ipython3",
   "version": "3.10.12"
  }
 },
 "nbformat": 4,
 "nbformat_minor": 5
}
